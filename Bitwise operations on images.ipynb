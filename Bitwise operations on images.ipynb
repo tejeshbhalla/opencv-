{
 "cells": [
  {
   "cell_type": "code",
   "execution_count": 19,
   "metadata": {},
   "outputs": [],
   "source": [
    "import cv2\n",
    "import numpy as np\n",
    "secondary_obj=np.zeros((300,300))\n",
    "\n",
    "square=cv2.rectangle(secondary_obj,(0,0),(250,250),100,-1)\n",
    "\n",
    "cv2.imshow('',secondary_obj)\n",
    "cv2.waitKey(0)\n",
    "cv2.destroyAllWindows()\n",
    "\n",
    "\n",
    "secondary_obj=np.zeros((300,300))\n",
    "ellipse=cv2.ellipse(secondary_obj,(150,150),(150,150),30,0,180,(30,30,90),-1)\n",
    "\n",
    "cv2.imshow('',ellipse)\n",
    "cv2.waitKey()\n",
    "cv2.destroyAllWindows()"
   ]
  },
  {
   "cell_type": "code",
   "execution_count": 20,
   "metadata": {},
   "outputs": [],
   "source": [
    "## bitwise operations in cv2\n"
   ]
  },
  {
   "cell_type": "code",
   "execution_count": 21,
   "metadata": {},
   "outputs": [],
   "source": [
    "image_and=cv2.bitwise_and(square,ellipse)\n",
    "cv2.imshow('',image_and)\n",
    "cv2.waitKey()\n",
    "cv2.destroyAllWindows()\n",
    "\n",
    "image_or=cv2.bitwise_or(square,ellipse)\n",
    "cv2.imshow('',image_or)\n",
    "cv2.waitKey()\n",
    "cv2.destroyAllWindows()\n",
    "\n",
    "image_xor=cv2.bitwise_xor(square,ellipse)\n",
    "cv2.imshow('',image_xor)\n",
    "cv2.waitKey()\n",
    "cv2.destroyAllWindows()\n",
    "\n",
    "image_not=cv2.bitwise_not(square)\n",
    "cv2.imshow('',image_not)\n",
    "cv2.waitKey()\n",
    "cv2.destroyAllWindows()"
   ]
  },
  {
   "cell_type": "code",
   "execution_count": null,
   "metadata": {},
   "outputs": [],
   "source": []
  }
 ],
 "metadata": {
  "kernelspec": {
   "display_name": "Python 3",
   "language": "python",
   "name": "python3"
  },
  "language_info": {
   "codemirror_mode": {
    "name": "ipython",
    "version": 3
   },
   "file_extension": ".py",
   "mimetype": "text/x-python",
   "name": "python",
   "nbconvert_exporter": "python",
   "pygments_lexer": "ipython3",
   "version": "3.7.7"
  }
 },
 "nbformat": 4,
 "nbformat_minor": 4
}
