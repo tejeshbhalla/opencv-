{
 "cells": [
  {
   "cell_type": "code",
   "execution_count": 3,
   "metadata": {},
   "outputs": [],
   "source": [
    "import cv2\n",
    "import numpy as np"
   ]
  },
  {
   "cell_type": "code",
   "execution_count": 19,
   "metadata": {},
   "outputs": [],
   "source": [
    "image=cv2.imread('images/elephant.jpg')\n",
    "\n",
    "kernel=np.ones((5,5),np.float32)/25\n",
    "\n",
    "out=cv2.filter2D(image,-1,kernel)\n",
    "\n",
    "cv2.imshow('',out)\n",
    "cv2.waitKey()\n",
    "cv2.destroyAllWindows()"
   ]
  },
  {
   "cell_type": "code",
   "execution_count": 21,
   "metadata": {},
   "outputs": [],
   "source": [
    "## cv2 image blur\n",
    "\n",
    "\n",
    "image=cv2.imread('images/elephant.jpg')\n",
    "\n",
    "\n",
    "out=cv2.blur(image,(7,7))\n",
    "\n",
    "cv2.imshow('',out)\n",
    "cv2.waitKey()\n",
    "cv2.destroyAllWindows()"
   ]
  },
  {
   "cell_type": "code",
   "execution_count": 27,
   "metadata": {},
   "outputs": [],
   "source": [
    "## cv2 image blur\n",
    "\n",
    "\n",
    "image=cv2.imread('images/elephant.jpg')\n",
    "\n",
    "\n",
    "out=cv2.GaussianBlur(image,(7,7),0)\n",
    "\n",
    "cv2.imshow('',out)\n",
    "cv2.waitKey()\n",
    "cv2.destroyAllWindows()"
   ]
  },
  {
   "cell_type": "code",
   "execution_count": 43,
   "metadata": {},
   "outputs": [],
   "source": [
    "## median blur\n",
    "\n",
    "image=cv2.imread('images/elephant.jpg')\n",
    "\n",
    "\n",
    "out=cv2.medianBlur(image,5,0)\n",
    "\n",
    "cv2.imshow('',out)\n",
    "cv2.waitKey()\n",
    "cv2.destroyAllWindows()\n"
   ]
  },
  {
   "cell_type": "code",
   "execution_count": 44,
   "metadata": {},
   "outputs": [],
   "source": [
    "## bilateral blur"
   ]
  },
  {
   "cell_type": "code",
   "execution_count": 50,
   "metadata": {},
   "outputs": [],
   "source": [
    "image=cv2.imread('images/elephant.jpg')\n",
    "\n",
    "\n",
    "out=cv2.bilateralFilter(image,5,75,75)\n",
    "\n",
    "cv2.imshow('',out)\n",
    "cv2.waitKey()\n",
    "cv2.destroyAllWindows()\n",
    "\n",
    "\n",
    "cv2.imshow('',image)\n",
    "cv2.waitKey()\n",
    "cv2.destroyAllWindows()\n",
    "\n"
   ]
  },
  {
   "cell_type": "code",
   "execution_count": null,
   "metadata": {},
   "outputs": [],
   "source": []
  }
 ],
 "metadata": {
  "kernelspec": {
   "display_name": "Python 3",
   "language": "python",
   "name": "python3"
  },
  "language_info": {
   "codemirror_mode": {
    "name": "ipython",
    "version": 3
   },
   "file_extension": ".py",
   "mimetype": "text/x-python",
   "name": "python",
   "nbconvert_exporter": "python",
   "pygments_lexer": "ipython3",
   "version": "3.7.7"
  }
 },
 "nbformat": 4,
 "nbformat_minor": 4
}
