{
 "cells": [
  {
   "cell_type": "code",
   "execution_count": 1,
   "metadata": {},
   "outputs": [],
   "source": [
    "import cv2\n",
    "import numpy as np"
   ]
  },
  {
   "cell_type": "code",
   "execution_count": null,
   "metadata": {},
   "outputs": [],
   "source": []
  },
  {
   "cell_type": "code",
   "execution_count": 16,
   "metadata": {},
   "outputs": [],
   "source": [
    "image=cv2.imread('images/opencv_inv.png')\n",
    "cv2.imshow('orignal',image)\n",
    "cv2.waitKey()\n",
    "\n",
    "\n",
    "\n",
    "#erosion\n",
    "kernel=np.ones((5,5),np.uint8)\n",
    "\n",
    "erosion=cv2.erode(image,kernel,iterations=1)\n",
    "cv2.imshow('eroded image',erosion)\n",
    "cv2.waitKey()\n",
    "\n",
    "\n",
    "#dilation\n",
    "kernel=np.ones((5,5),np.uint8)\n",
    "\n",
    "dil=cv2.dilate(image,kernel,iterations=1)\n",
    "cv2.imshow('dilated image',dil)\n",
    "cv2.waitKey()\n",
    "\n",
    "\n",
    "\n",
    "#opening and closing \n",
    "#opening is really good for removing noise \n",
    "kernel=np.ones((5,5),np.uint8)\n",
    "\n",
    "erosion=cv2.erode(image,kernel,iterations=1)\n",
    "out=cv2.dilate(erosion,kernel,iterations=1)\n",
    "\n",
    "cv2.imshow('opening image',out)\n",
    "cv2.waitKey()\n",
    "\n",
    "\n",
    "\n",
    "\n",
    "\n",
    "\n",
    "#closing is good for removing noise \n",
    "\n",
    "kernel=np.ones((5,5),np.uint8)\n",
    "\n",
    "out=cv2.dilate(image,kernel,iterations=1)\n",
    "out2=cv2.erode(out,kernel,iterations=1)\n",
    "\n",
    "cv2.imshow('opening image',out2)\n",
    "cv2.waitKey()\n",
    "\n",
    "cv2.destroyAllWindows()\n",
    "\n",
    "\n"
   ]
  },
  {
   "cell_type": "code",
   "execution_count": null,
   "metadata": {},
   "outputs": [],
   "source": []
  }
 ],
 "metadata": {
  "kernelspec": {
   "display_name": "Python 3",
   "language": "python",
   "name": "python3"
  },
  "language_info": {
   "codemirror_mode": {
    "name": "ipython",
    "version": 3
   },
   "file_extension": ".py",
   "mimetype": "text/x-python",
   "name": "python",
   "nbconvert_exporter": "python",
   "pygments_lexer": "ipython3",
   "version": "3.7.7"
  }
 },
 "nbformat": 4,
 "nbformat_minor": 4
}
