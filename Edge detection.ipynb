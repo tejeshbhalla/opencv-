{
 "cells": [
  {
   "cell_type": "markdown",
   "metadata": {},
   "source": [
    "## Edge Detection"
   ]
  },
  {
   "cell_type": "code",
   "execution_count": 12,
   "metadata": {},
   "outputs": [],
   "source": [
    "\n",
    "#import cv2\n",
    "import numpy as np \n",
    "\n",
    "image=cv2.imread('images/input.jpg')\n",
    "cv2.imshow('',image)\n",
    "cv2.waitKey()\n",
    "\n",
    "#sobels \n",
    "\n",
    "horizontal=cv2.Sobel(image,cv2.CV_64F,0,1,ksize=5)\n",
    "vertical=cv2.Sobel(image,cv2.CV_64F,1,0,ksize=5)\n",
    "cv2.imshow('',horizontal)\n",
    "cv2.waitKey()\n",
    "cv2.imshow('',vertical)\n",
    "cv2.waitKey()\n",
    "\n",
    "\n",
    "#combined sobels\n",
    "\n",
    "combined=cv2.bitwise_or(horizontal,vertical)\n",
    "cv2.imshow('',combined)\n",
    "cv2.waitKey()\n",
    "\n",
    "\n",
    "#laplacian\n",
    "out=cv2.Laplacian(image,cv2.CV_64F)\n",
    "cv2.imshow('laplacian',out)\n",
    "cv2.waitKey()\n",
    "\n",
    "\n",
    "\n",
    "##  Then, we need to provide two values: threshold1 and threshold2. Any gradient value larger than threshold2\n",
    "# is considered to be an edge. Any value below threshold1 is considered not to be an edge. \n",
    "#Values in between threshold1 and threshold2 are either classiﬁed as edges or non-edges based on how their \n",
    "#intensities are “connected”. In this case, any gradient values below 60 are considered non-edges\n",
    "#whereas any values above 120 are considered edges.\n",
    "\n",
    "\n",
    "# Canny Edge Detection uses gradient values as thresholds\n",
    "# The first threshold gradient\n",
    "\n",
    "\n",
    "out=cv2.Canny(image,60,120)\n",
    "\n",
    "cv2.imshow('canny',out)\n",
    "cv2.waitKey()\n",
    "cv2.destroyAllWindows()"
   ]
  },
  {
   "cell_type": "code",
   "execution_count": null,
   "metadata": {},
   "outputs": [],
   "source": []
  },
  {
   "cell_type": "code",
   "execution_count": null,
   "metadata": {},
   "outputs": [],
   "source": []
  }
 ],
 "metadata": {
  "kernelspec": {
   "display_name": "Python 3",
   "language": "python",
   "name": "python3"
  },
  "language_info": {
   "codemirror_mode": {
    "name": "ipython",
    "version": 3
   },
   "file_extension": ".py",
   "mimetype": "text/x-python",
   "name": "python",
   "nbconvert_exporter": "python",
   "pygments_lexer": "ipython3",
   "version": "3.7.7"
  }
 },
 "nbformat": 4,
 "nbformat_minor": 4
}
