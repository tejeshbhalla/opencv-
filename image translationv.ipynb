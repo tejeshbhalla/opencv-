{
 "cells": [
  {
   "cell_type": "code",
   "execution_count": 1,
   "metadata": {},
   "outputs": [],
   "source": [
    "import cv2\n",
    "import numpy as np"
   ]
  },
  {
   "cell_type": "code",
   "execution_count": 75,
   "metadata": {},
   "outputs": [
    {
     "data": {
      "text/plain": [
       "(830, 1245, 3)"
      ]
     },
     "execution_count": 75,
     "metadata": {},
     "output_type": "execute_result"
    }
   ],
   "source": [
    "image=cv2.imread('images/input.jpg')\n",
    "image.shape"
   ]
  },
  {
   "cell_type": "code",
   "execution_count": 46,
   "metadata": {},
   "outputs": [
    {
     "data": {
      "text/plain": [
       "array([[  1. ,   0. , 124.5],\n",
       "       [  0. ,   1. , -83. ]])"
      ]
     },
     "execution_count": 46,
     "metadata": {},
     "output_type": "execute_result"
    }
   ],
   "source": [
    "\n",
    "t=np.array([[1,0,image.shape[0]*0.1],[0,1,-image.shape[1]*0.1]])\n",
    "t"
   ]
  },
  {
   "cell_type": "code",
   "execution_count": 47,
   "metadata": {},
   "outputs": [],
   "source": [
    "image=cv2.warpAffine(image,t,dsize=(image.shape[0],image.shape[1]))"
   ]
  },
  {
   "cell_type": "code",
   "execution_count": 48,
   "metadata": {},
   "outputs": [],
   "source": [
    "cv2.imshow('',image)\n",
    "cv2.waitKey()\n",
    "cv2.destroyAllWindows()\n"
   ]
  },
  {
   "cell_type": "markdown",
   "metadata": {},
   "source": [
    "## rotation "
   ]
  },
  {
   "cell_type": "code",
   "execution_count": 58,
   "metadata": {},
   "outputs": [],
   "source": [
    "image=cv2.transpose(image)"
   ]
  },
  {
   "cell_type": "code",
   "execution_count": 59,
   "metadata": {},
   "outputs": [],
   "source": [
    "cv2.imshow('',image)\n",
    "cv2.waitKey()\n",
    "cv2.destroyAllWindows()"
   ]
  },
  {
   "cell_type": "code",
   "execution_count": 60,
   "metadata": {},
   "outputs": [],
   "source": [
    "## cv2 has explicit rotation"
   ]
  },
  {
   "cell_type": "code",
   "execution_count": 78,
   "metadata": {},
   "outputs": [],
   "source": [
    "r=cv2.getRotationMatrix2D((image.shape[0]/2,image.shape[1]/2),180,1)"
   ]
  },
  {
   "cell_type": "code",
   "execution_count": 79,
   "metadata": {},
   "outputs": [],
   "source": [
    "image=cv2.warpAffine(image,r,dsize=(image.shape[0],image.shape[1]))"
   ]
  },
  {
   "cell_type": "code",
   "execution_count": 80,
   "metadata": {},
   "outputs": [],
   "source": [
    "cv2.imshow('',image)\n",
    "cv2.waitKey()\n",
    "cv2.destroyAllWindows()"
   ]
  },
  {
   "cell_type": "markdown",
   "metadata": {},
   "source": [
    "## scaling and resizing "
   ]
  },
  {
   "cell_type": "code",
   "execution_count": 104,
   "metadata": {},
   "outputs": [],
   "source": [
    "import cv2\n",
    "import numpy as np\n",
    "\n",
    "imagehi=cv2.imread('images/input.jpg')"
   ]
  },
  {
   "cell_type": "code",
   "execution_count": 105,
   "metadata": {},
   "outputs": [],
   "source": [
    "image=cv2.resize(imagehi,None,fx=0.9,fy=0.5)\n",
    "\n",
    "image1=cv2.resize(imagehi,None,0.75,0.75,cv2.INTER_CUBIC)\n",
    "\n",
    "image2=cv2.resize(imagehi,None,0.75,0.75,cv2.INTER_AREA)"
   ]
  },
  {
   "cell_type": "code",
   "execution_count": 106,
   "metadata": {},
   "outputs": [],
   "source": [
    "cv2.imshow('',image2)\n",
    "cv2.waitKey()\n",
    "cv2.destroyAllWindows()"
   ]
  },
  {
   "cell_type": "code",
   "execution_count": 90,
   "metadata": {},
   "outputs": [],
   "source": [
    "cv2.destroyAllWindows()"
   ]
  },
  {
   "cell_type": "markdown",
   "metadata": {},
   "source": [
    "## Image pyramidding "
   ]
  },
  {
   "cell_type": "code",
   "execution_count": 107,
   "metadata": {},
   "outputs": [],
   "source": [
    "## this algo is used to make smaller and smaller copies of an image it has a lot of applications in computer vision "
   ]
  },
  {
   "cell_type": "code",
   "execution_count": 108,
   "metadata": {},
   "outputs": [],
   "source": [
    "import cv2"
   ]
  },
  {
   "cell_type": "code",
   "execution_count": 115,
   "metadata": {},
   "outputs": [],
   "source": [
    "image=cv2.imread('images/input.jpg')\n",
    "smaller_sets=[]\n",
    "\n",
    "for i in range(5):\n",
    "    image=cv2.pyrUp(image)\n",
    "    image=cv2.pyrDown(image)\n",
    "    smaller_sets.append(image)\n",
    "    \n",
    "    \n",
    "for i in smaller_sets:\n",
    "    cv2.imshow('',i)\n",
    "    cv2.waitKey()\n",
    "    cv2.destroyAllWindows()"
   ]
  },
  {
   "cell_type": "code",
   "execution_count": null,
   "metadata": {},
   "outputs": [],
   "source": []
  },
  {
   "cell_type": "code",
   "execution_count": 120,
   "metadata": {},
   "outputs": [],
   "source": [
    "image=cv2.imread('images/input.jpg')"
   ]
  },
  {
   "cell_type": "code",
   "execution_count": 121,
   "metadata": {},
   "outputs": [
    {
     "data": {
      "text/plain": [
       "array([[[12, 18, 31],\n",
       "        [12, 18, 31],\n",
       "        [11, 17, 30],\n",
       "        ...,\n",
       "        [21, 24, 38],\n",
       "        [21, 24, 38],\n",
       "        [21, 24, 38]],\n",
       "\n",
       "       [[12, 18, 31],\n",
       "        [12, 18, 31],\n",
       "        [12, 18, 31],\n",
       "        ...,\n",
       "        [21, 24, 38],\n",
       "        [21, 24, 38],\n",
       "        [21, 24, 38]],\n",
       "\n",
       "       [[12, 18, 31],\n",
       "        [12, 18, 31],\n",
       "        [12, 18, 31],\n",
       "        ...,\n",
       "        [21, 24, 38],\n",
       "        [21, 24, 38],\n",
       "        [21, 24, 38]],\n",
       "\n",
       "       ...,\n",
       "\n",
       "       [[ 4,  7, 12],\n",
       "        [ 4,  7, 12],\n",
       "        [ 3,  7, 12],\n",
       "        ...,\n",
       "        [18, 23, 38],\n",
       "        [19, 24, 39],\n",
       "        [20, 25, 40]],\n",
       "\n",
       "       [[ 3,  6, 11],\n",
       "        [ 3,  6, 11],\n",
       "        [ 3,  6, 11],\n",
       "        ...,\n",
       "        [18, 23, 38],\n",
       "        [19, 24, 39],\n",
       "        [20, 25, 40]],\n",
       "\n",
       "       [[ 3,  6, 11],\n",
       "        [ 3,  6, 11],\n",
       "        [ 2,  5, 10],\n",
       "        ...,\n",
       "        [18, 23, 38],\n",
       "        [18, 23, 38],\n",
       "        [19, 24, 39]]], dtype=uint8)"
      ]
     },
     "execution_count": 121,
     "metadata": {},
     "output_type": "execute_result"
    }
   ],
   "source": [
    "image"
   ]
  },
  {
   "cell_type": "code",
   "execution_count": null,
   "metadata": {},
   "outputs": [],
   "source": []
  }
 ],
 "metadata": {
  "kernelspec": {
   "display_name": "Python 3",
   "language": "python",
   "name": "python3"
  },
  "language_info": {
   "codemirror_mode": {
    "name": "ipython",
    "version": 3
   },
   "file_extension": ".py",
   "mimetype": "text/x-python",
   "name": "python",
   "nbconvert_exporter": "python",
   "pygments_lexer": "ipython3",
   "version": "3.7.7"
  }
 },
 "nbformat": 4,
 "nbformat_minor": 4
}
