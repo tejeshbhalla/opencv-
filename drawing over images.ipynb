{
 "cells": [
  {
   "cell_type": "code",
   "execution_count": 68,
   "metadata": {},
   "outputs": [],
   "source": [
    "import cv2\n",
    "import numpy as np"
   ]
  },
  {
   "cell_type": "code",
   "execution_count": 69,
   "metadata": {},
   "outputs": [],
   "source": [
    "image=cv2.imread('images/input.jpg')"
   ]
  },
  {
   "cell_type": "code",
   "execution_count": 30,
   "metadata": {},
   "outputs": [],
   "source": [
    "image=cv2.circle(image,(30,30),60,(10,10,100))"
   ]
  },
  {
   "cell_type": "code",
   "execution_count": 31,
   "metadata": {},
   "outputs": [],
   "source": [
    "cv2.imshow('',image)\n",
    "cv2.waitKey()\n",
    "cv2.destroyAllWindows()"
   ]
  },
  {
   "cell_type": "code",
   "execution_count": 58,
   "metadata": {},
   "outputs": [],
   "source": [
    "image=cv2.rectangle(image, (0,0), (3000,3000), (127,50,127), -1)"
   ]
  },
  {
   "cell_type": "code",
   "execution_count": 59,
   "metadata": {},
   "outputs": [],
   "source": [
    "cv2.imshow('',image)\n",
    "cv2.waitKey()\n",
    "cv2.destroyAllWindows()"
   ]
  },
  {
   "cell_type": "code",
   "execution_count": 60,
   "metadata": {},
   "outputs": [
    {
     "data": {
      "text/plain": [
       "array([[[127,  50, 127],\n",
       "        [127,  50, 127],\n",
       "        [127,  50, 127],\n",
       "        ...,\n",
       "        [127,  50, 127],\n",
       "        [127,  50, 127],\n",
       "        [127,  50, 127]],\n",
       "\n",
       "       [[127,  50, 127],\n",
       "        [127,  50, 127],\n",
       "        [127,  50, 127],\n",
       "        ...,\n",
       "        [127,  50, 127],\n",
       "        [127,  50, 127],\n",
       "        [127,  50, 127]],\n",
       "\n",
       "       [[127,  50, 127],\n",
       "        [127,  50, 127],\n",
       "        [127,  50, 127],\n",
       "        ...,\n",
       "        [127,  50, 127],\n",
       "        [127,  50, 127],\n",
       "        [127,  50, 127]],\n",
       "\n",
       "       ...,\n",
       "\n",
       "       [[127,  50, 127],\n",
       "        [127,  50, 127],\n",
       "        [127,  50, 127],\n",
       "        ...,\n",
       "        [127,  50, 127],\n",
       "        [127,  50, 127],\n",
       "        [127,  50, 127]],\n",
       "\n",
       "       [[127,  50, 127],\n",
       "        [127,  50, 127],\n",
       "        [127,  50, 127],\n",
       "        ...,\n",
       "        [127,  50, 127],\n",
       "        [127,  50, 127],\n",
       "        [127,  50, 127]],\n",
       "\n",
       "       [[127,  50, 127],\n",
       "        [127,  50, 127],\n",
       "        [127,  50, 127],\n",
       "        ...,\n",
       "        [127,  50, 127],\n",
       "        [127,  50, 127],\n",
       "        [127,  50, 127]]], dtype=uint8)"
      ]
     },
     "execution_count": 60,
     "metadata": {},
     "output_type": "execute_result"
    }
   ],
   "source": [
    "image"
   ]
  },
  {
   "cell_type": "code",
   "execution_count": 75,
   "metadata": {},
   "outputs": [],
   "source": [
    "\n",
    "\n",
    "image=cv2.putText(image, 'La Louvre', (1245,0), cv2.FONT_HERSHEY_COMPLEX, 2, (100,170,0), 3)\n",
    "cv2.imshow(\"Hello World!\", image)\n",
    "cv2.waitKey(0)\n",
    "cv2.destroyAllWindows()"
   ]
  },
  {
   "cell_type": "code",
   "execution_count": 65,
   "metadata": {},
   "outputs": [
    {
     "data": {
      "text/plain": [
       "(830, 1245, 3)"
      ]
     },
     "execution_count": 65,
     "metadata": {},
     "output_type": "execute_result"
    }
   ],
   "source": [
    "image.shape"
   ]
  },
  {
   "cell_type": "code",
   "execution_count": 66,
   "metadata": {},
   "outputs": [
    {
     "data": {
      "text/plain": [
       "(0, 1245)"
      ]
     },
     "execution_count": 66,
     "metadata": {},
     "output_type": "execute_result"
    }
   ],
   "source": [
    "0,1245"
   ]
  },
  {
   "cell_type": "code",
   "execution_count": 88,
   "metadata": {},
   "outputs": [],
   "source": [
    "arr1=np.array([[1,2]])"
   ]
  },
  {
   "cell_type": "code",
   "execution_count": 89,
   "metadata": {},
   "outputs": [
    {
     "data": {
      "text/plain": [
       "array([[1, 2]])"
      ]
     },
     "execution_count": 89,
     "metadata": {},
     "output_type": "execute_result"
    }
   ],
   "source": [
    "arr1"
   ]
  },
  {
   "cell_type": "code",
   "execution_count": 90,
   "metadata": {},
   "outputs": [],
   "source": [
    "translation=np.array([[1,0,2],[0,1,3]])"
   ]
  },
  {
   "cell_type": "code",
   "execution_count": 91,
   "metadata": {},
   "outputs": [
    {
     "data": {
      "text/plain": [
       "array([[1, 2, 8]])"
      ]
     },
     "execution_count": 91,
     "metadata": {},
     "output_type": "execute_result"
    }
   ],
   "source": [
    "np.dot(arr1,translation)"
   ]
  },
  {
   "cell_type": "code",
   "execution_count": null,
   "metadata": {},
   "outputs": [],
   "source": []
  }
 ],
 "metadata": {
  "kernelspec": {
   "display_name": "Python 3",
   "language": "python",
   "name": "python3"
  },
  "language_info": {
   "codemirror_mode": {
    "name": "ipython",
    "version": 3
   },
   "file_extension": ".py",
   "mimetype": "text/x-python",
   "name": "python",
   "nbconvert_exporter": "python",
   "pygments_lexer": "ipython3",
   "version": "3.7.7"
  }
 },
 "nbformat": 4,
 "nbformat_minor": 4
}
